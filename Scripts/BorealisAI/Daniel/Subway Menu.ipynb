{
 "cells": [
  {
   "cell_type": "code",
   "execution_count": 4,
   "metadata": {},
   "outputs": [],
   "source": [
    "import pandas as pd"
   ]
  },
  {
   "cell_type": "code",
   "execution_count": 5,
   "metadata": {},
   "outputs": [],
   "source": [
    "dataSubway = {\n",
    "    \n",
    "    'Sandwiches': ['Black Forest Ham', 'Chicken & Bacon Ranch Melt', 'Cold Cut Combo',\n",
    "                  'Italian B.M.T.', 'Meatball Marinara', 'Oven Roasted Chicken', 'Steak & Cheese',\n",
    "                  'Sweet Onion Chicken Teriyaki', 'Tuna', 'Turkey Breast', 'Veggie Delite'],\n",
    "    'Serving Amount 6inch': [219, 285, 213, 213, 205, 233, 211, 265, 223, 219, 162],\n",
    "    'Serving Amount 12inch': [438, 570, 426, 426, 410, 466, 322, 530, 446, 438, 324]\n",
    "}"
   ]
  },
  {
   "cell_type": "code",
   "execution_count": 6,
   "metadata": {},
   "outputs": [
    {
     "data": {
      "text/html": [
       "<div>\n",
       "<style scoped>\n",
       "    .dataframe tbody tr th:only-of-type {\n",
       "        vertical-align: middle;\n",
       "    }\n",
       "\n",
       "    .dataframe tbody tr th {\n",
       "        vertical-align: top;\n",
       "    }\n",
       "\n",
       "    .dataframe thead th {\n",
       "        text-align: right;\n",
       "    }\n",
       "</style>\n",
       "<table border=\"1\" class=\"dataframe\">\n",
       "  <thead>\n",
       "    <tr style=\"text-align: right;\">\n",
       "      <th></th>\n",
       "      <th>Sandwiches</th>\n",
       "      <th>Serving Amount 6inch</th>\n",
       "      <th>Serving Amount 12inch</th>\n",
       "    </tr>\n",
       "  </thead>\n",
       "  <tbody>\n",
       "    <tr>\n",
       "      <th>0</th>\n",
       "      <td>Black Forest Ham</td>\n",
       "      <td>219</td>\n",
       "      <td>438</td>\n",
       "    </tr>\n",
       "    <tr>\n",
       "      <th>1</th>\n",
       "      <td>Chicken &amp; Bacon Ranch Melt</td>\n",
       "      <td>285</td>\n",
       "      <td>570</td>\n",
       "    </tr>\n",
       "    <tr>\n",
       "      <th>2</th>\n",
       "      <td>Cold Cut Combo</td>\n",
       "      <td>213</td>\n",
       "      <td>426</td>\n",
       "    </tr>\n",
       "    <tr>\n",
       "      <th>3</th>\n",
       "      <td>Italian B.M.T.</td>\n",
       "      <td>213</td>\n",
       "      <td>426</td>\n",
       "    </tr>\n",
       "    <tr>\n",
       "      <th>4</th>\n",
       "      <td>Meatball Marinara</td>\n",
       "      <td>205</td>\n",
       "      <td>410</td>\n",
       "    </tr>\n",
       "    <tr>\n",
       "      <th>5</th>\n",
       "      <td>Oven Roasted Chicken</td>\n",
       "      <td>233</td>\n",
       "      <td>466</td>\n",
       "    </tr>\n",
       "    <tr>\n",
       "      <th>6</th>\n",
       "      <td>Steak &amp; Cheese</td>\n",
       "      <td>211</td>\n",
       "      <td>322</td>\n",
       "    </tr>\n",
       "    <tr>\n",
       "      <th>7</th>\n",
       "      <td>Sweet Onion Chicken Teriyaki</td>\n",
       "      <td>265</td>\n",
       "      <td>530</td>\n",
       "    </tr>\n",
       "    <tr>\n",
       "      <th>8</th>\n",
       "      <td>Tuna</td>\n",
       "      <td>223</td>\n",
       "      <td>446</td>\n",
       "    </tr>\n",
       "    <tr>\n",
       "      <th>9</th>\n",
       "      <td>Turkey Breast</td>\n",
       "      <td>219</td>\n",
       "      <td>438</td>\n",
       "    </tr>\n",
       "    <tr>\n",
       "      <th>10</th>\n",
       "      <td>Veggie Delite</td>\n",
       "      <td>162</td>\n",
       "      <td>324</td>\n",
       "    </tr>\n",
       "  </tbody>\n",
       "</table>\n",
       "</div>"
      ],
      "text/plain": [
       "                      Sandwiches  Serving Amount 6inch  Serving Amount 12inch\n",
       "0               Black Forest Ham                   219                    438\n",
       "1     Chicken & Bacon Ranch Melt                   285                    570\n",
       "2                 Cold Cut Combo                   213                    426\n",
       "3                 Italian B.M.T.                   213                    426\n",
       "4              Meatball Marinara                   205                    410\n",
       "5           Oven Roasted Chicken                   233                    466\n",
       "6                 Steak & Cheese                   211                    322\n",
       "7   Sweet Onion Chicken Teriyaki                   265                    530\n",
       "8                           Tuna                   223                    446\n",
       "9                  Turkey Breast                   219                    438\n",
       "10                 Veggie Delite                   162                    324"
      ]
     },
     "execution_count": 6,
     "metadata": {},
     "output_type": "execute_result"
    }
   ],
   "source": [
    "df = pd.DataFrame(data = dataSubway)\n",
    "\n",
    "df"
   ]
  },
  {
   "cell_type": "code",
   "execution_count": null,
   "metadata": {},
   "outputs": [],
   "source": []
  }
 ],
 "metadata": {
  "kernelspec": {
   "display_name": "Python 3",
   "language": "python",
   "name": "python3"
  },
  "language_info": {
   "codemirror_mode": {
    "name": "ipython",
    "version": 3
   },
   "file_extension": ".py",
   "mimetype": "text/x-python",
   "name": "python",
   "nbconvert_exporter": "python",
   "pygments_lexer": "ipython3",
   "version": "3.8.5"
  }
 },
 "nbformat": 4,
 "nbformat_minor": 4
}
